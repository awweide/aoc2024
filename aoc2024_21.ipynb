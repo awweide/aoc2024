{
 "cells": [
  {
   "cell_type": "code",
   "execution_count": null,
   "id": "bdea03e2",
   "metadata": {},
   "outputs": [],
   "source": [
    "input_test = \"\"\"029A\n",
    "980A\n",
    "179A\n",
    "456A\n",
    "379A\"\"\""
   ]
  },
  {
   "cell_type": "code",
   "execution_count": null,
   "id": "6b2f6ae4",
   "metadata": {},
   "outputs": [],
   "source": [
    "import numpy as np\n",
    "from collections import defaultdict"
   ]
  },
  {
   "cell_type": "code",
   "execution_count": null,
   "id": "6080065d",
   "metadata": {},
   "outputs": [],
   "source": [
    "#uncertain: ordering of doubles\n",
    "#ld is better than dl; dl requires two groups of lefts (tested for 10 downs, but could in theory interact with others)\n",
    "#ur seems better than ru; this is kind of weird?\n",
    "#found best doubles-ordering by testing\n",
    "dict_map = {\"A\" : \"A\", \"uA\" : \"lArA\", \"rA\": \"dAuA\", \"dA\": \"ldAurA\", \"lA\": \"dllArruA\"} #all simples\n",
    "dict_map[\"ldA\"] = \"dllArAurA\"\n",
    "dict_map[\"luA\"] = \"dllAruArA\"\n",
    "dict_map[\"ruA\"] = \"dAluArA\"\n",
    "dict_map[\"rdA\"] = \"lAdAurA\"\n",
    "dict_map[\"dlA\"] = \"ldAlArruA\"\n",
    "dict_map[\"drA\"] = \"ldArAuA\"\n",
    "dict_map[\"ulA\"] = \"lAdlArruA\"\n",
    "dict_map[\"urA\"] = \"lAdrAuA\"\n",
    "\n",
    "def pass_down_group(g):\n",
    "    if g in dict_map: return dict_map[g]\n",
    "    else:\n",
    "        g_base = \"\"\n",
    "        g_extras = \"\"\n",
    "        c_prev = None\n",
    "        for c in g:\n",
    "            if c == c_prev: g_extras += \"A\"\n",
    "            else:\n",
    "                g_base += c\n",
    "                c_prev = c\n",
    "        return dict_map[g_base] + g_extras"
   ]
  },
  {
   "cell_type": "code",
   "execution_count": null,
   "id": "e3939028",
   "metadata": {},
   "outputs": [],
   "source": [
    "def pass_down_group_dict(gd):\n",
    "    new_group_dict = defaultdict(int)\n",
    "    for g,c in gd.items():\n",
    "        g_to_seq = pass_down_group(g)\n",
    "        groups_to = [g_to + \"A\" for g_to in g_to_seq.split('A')][:-1]\n",
    "        for g_to in groups_to:\n",
    "            new_group_dict[g_to] += c\n",
    "    return new_group_dict"
   ]
  },
  {
   "cell_type": "code",
   "execution_count": null,
   "id": "c3e292fc",
   "metadata": {},
   "outputs": [],
   "source": [
    "def pass_down_group_dict_r(gd, r):\n",
    "    for i in range(r): gd = pass_down_group_dict(gd)\n",
    "    return gd"
   ]
  },
  {
   "cell_type": "code",
   "execution_count": null,
   "id": "3c9f7c76",
   "metadata": {},
   "outputs": [],
   "source": [
    "udlr_map = {\"u\" : np.array((-1,0)), \"d\" : np.array((1,0)), \"l\" : np.array((0,-1)), \"r\" : np.array((0,1)) }\n",
    "kpad = np.array([[7,8,9],[4,5,6],[1,2,3,],[\"X\",0,\"A\"]])\n",
    "\n",
    "def validate_move(pos_from, pos_avoid, move):\n",
    "    pos = pos_from.copy()\n",
    "    for c in move:\n",
    "        pos += udlr_map[c]\n",
    "        if np.all(pos == pos_avoid): return False\n",
    "    return True\n",
    "\n",
    "\n",
    "\n",
    "def get_group_dict_from_seq(seq):\n",
    "    gd = defaultdict(int)\n",
    "    \n",
    "    pos_from = np.argwhere(kpad == \"A\")[0]\n",
    "    pos_avoid = np.argwhere(kpad == \"X\")[0]\n",
    "\n",
    "    for char in seq:\n",
    "        pos_to = np.argwhere(kpad == char)[0]\n",
    "        move = pos_to - pos_from\n",
    "        v,h = int(move[0]),int(move[1])\n",
    "        v_str = \"d\" * v if v > 0 else \"u\" * -v\n",
    "        h_str = \"r\" * h if h > 0 else \"l\" * -h\n",
    "        vh,hv = v_str + h_str, h_str + v_str\n",
    "\n",
    "        moves = set([m for m in [vh, hv] if validate_move(pos_from, pos_avoid, m)])\n",
    "        #Choose correct ordering of vertical/horizontal gourps if both are possible\n",
    "        if v > 0 and h > 0: move = vh\n",
    "        if v > 0 and h < 0: move = hv\n",
    "        if v < 0 and h > 0: move = vh\n",
    "        if v < 0 and h < 0: move = hv\n",
    "        #Get the only possible move if either move failed validation\n",
    "        if len(moves) == 1: move = list(moves)[0]\n",
    "            \n",
    "        gd[move + \"A\"] += 1\n",
    "        pos_from = pos_to\n",
    "    return gd\n",
    "\n",
    "def get_complexity_from_sequence(seq, r=2):\n",
    "    group_dict = get_group_dict_from_seq(seq)\n",
    "    group_dict = pass_down_group_dict_r(group_dict, r)\n",
    "    return sum([len(g)*c for g,c in group_dict.items()])\n",
    "\n",
    "def solve(inp, r=2):\n",
    "    tot = 0\n",
    "    for seq in inp.split('\\n'):\n",
    "        n = int(seq[:-1])\n",
    "        tot += n * get_complexity_from_sequence(seq, r)\n",
    "    return tot"
   ]
  },
  {
   "cell_type": "code",
   "execution_count": null,
   "id": "8434abbf",
   "metadata": {},
   "outputs": [],
   "source": [
    "solve(input_full, 25)"
   ]
  },
  {
   "cell_type": "code",
   "execution_count": null,
   "id": "b2bc1095",
   "metadata": {},
   "outputs": [],
   "source": [
    "input_full = \"\"\"540A\n",
    "839A\n",
    "682A\n",
    "826A\n",
    "974A\"\"\""
   ]
  }
 ],
 "metadata": {
  "kernelspec": {
   "display_name": "Python 3 (ipykernel)",
   "language": "python",
   "name": "python3"
  },
  "language_info": {
   "codemirror_mode": {
    "name": "ipython",
    "version": 3
   },
   "file_extension": ".py",
   "mimetype": "text/x-python",
   "name": "python",
   "nbconvert_exporter": "python",
   "pygments_lexer": "ipython3",
   "version": "3.10.6"
  }
 },
 "nbformat": 4,
 "nbformat_minor": 5
}
