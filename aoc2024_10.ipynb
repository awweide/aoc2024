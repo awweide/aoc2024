{
 "cells": [
  {
   "cell_type": "code",
   "execution_count": null,
   "id": "99035b6a",
   "metadata": {},
   "outputs": [],
   "source": [
    "input_test_p1 = \"\"\"89010123\n",
    "78121874\n",
    "87430965\n",
    "96549874\n",
    "45678903\n",
    "32019012\n",
    "01329801\n",
    "10456732\"\"\"\n",
    "output_test_p1 = 36\n",
    "output_test_p2 = 81"
   ]
  },
  {
   "cell_type": "code",
   "execution_count": null,
   "id": "f58a74b8",
   "metadata": {},
   "outputs": [],
   "source": [
    "import numpy as np\n",
    "udrl = [np.array((-1,0)), np.array((1,0)), np.array((0,1)), np.array((0,-1))]\n",
    "\n",
    "def parse_input(inp):\n",
    "    return np.array([[int(char) for char in line] for line in inp.split('\\n')])\n",
    "\n",
    "def update(g, gx, queue, udrl):\n",
    "    e = queue.pop(0)\n",
    "    p,r = e[\"p\"], e[\"root\"]\n",
    "    \n",
    "    for v in udrl:\n",
    "        P = p + v\n",
    "        #if new position in grid and height increased by 1 and not already visited from same root\n",
    "        if np.all(P >= (0,0)) and np.all(P < g.shape) and g[tuple(P)] == g[tuple(p)] + 1 and r not in gx[tuple(P)]:\n",
    "            #add new position to grid with list of is-reachable-from-these-root-positions\n",
    "            gx[tuple(P)].append(r)\n",
    "            #add new position to queue - dedupliaction ensured \"r not in gx[tuple(P)]\"\n",
    "            queue.append({\"p\": P, \"root\": r})\n",
    "    return\n",
    "\n",
    "def solve_p1(inp):\n",
    "    g = parse_input(inp)\n",
    "    gx = np.empty(shape = g.shape, dtype=object)\n",
    "    for x,y in np.ndindex(g.shape): gx[x,y] = []\n",
    "        \n",
    "    queue = [{\"p\" : (x,y), \"root\" : (x,y)} for (x,y) in zip(*np.where(g == 0))]\n",
    "    \n",
    "    while queue: update(g, gx, queue, udrl)\n",
    "    \n",
    "    return np.sum([len(gx[x,y]) for (x,y) in zip(*np.where(g==9))])"
   ]
  },
  {
   "cell_type": "code",
   "execution_count": null,
   "id": "8c51e51b",
   "metadata": {},
   "outputs": [],
   "source": [
    "def solve_p2(inp):\n",
    "    g = parse_input(inp)\n",
    "    gx = np.zeros_like(g) #would be more efficient to use a sparse data structure like a dict\n",
    "        \n",
    "    #set all root-positions to having one unique path\n",
    "    for (x,y) in zip(*np.where(g==0)): gx[x,y] = 1\n",
    "\n",
    "    for h in range(0, 10):\n",
    "        #for every reachable position of currently relevant height\n",
    "        for (x,y) in zip(*np.where(np.logical_and(gx > 0, g == h) == True)):\n",
    "            #for every cardinal direction from these positions\n",
    "            for P in [np.array((x,y)) + v for v in udrl]:\n",
    "                #if still inside grid and height at new position is okay\n",
    "                if np.all(P >= (0,0)) and np.all(P < g.shape) and g[tuple(P)] == h+1:\n",
    "                    #increase number of unique paths to new node by number of unique paths to previous node\n",
    "                    gx[tuple(P)] += gx[x,y]\n",
    "    \n",
    "    return np.sum([(gx[x,y]) for (x,y) in zip(*np.where(g==9))])"
   ]
  },
  {
   "cell_type": "code",
   "execution_count": null,
   "id": "a942a8a1",
   "metadata": {},
   "outputs": [],
   "source": [
    "assert solve_p1(input_test_p1) == output_test_p1\n",
    "solve_p1(input_full)"
   ]
  },
  {
   "cell_type": "code",
   "execution_count": null,
   "id": "0a12e7cb",
   "metadata": {},
   "outputs": [],
   "source": [
    "assert solve_p2(input_test_p1) == output_test_p2\n",
    "solve_p2(input_full)"
   ]
  },
  {
   "cell_type": "code",
   "execution_count": null,
   "id": "fe4ae604",
   "metadata": {},
   "outputs": [],
   "source": [
    "input_full = \"\"\"6541001098012789610347890107654656710323\n",
    "7832102127643898701256521218323465891410\n",
    "8996543034556789650987434309012534892565\n",
    "3887689678965876501874345892105621763676\n",
    "4305678563456903416765676756898760654980\n",
    "5214107852107812321254382347872108901221\n",
    "6543236943056921010341291078963457654338\n",
    "7896545987045430010980012569454968983549\n",
    "3217830656189899121676101430356879892678\n",
    "2106921043210778234585232321267898761432\n",
    "3478854430345665056798743410456901050501\n",
    "4569763521012552143895654501345012347670\n",
    "3654012678903443212104309690432167898981\n",
    "2783656987654874908765218781201254012567\n",
    "1092347897893965889034765670387063013498\n",
    "1001298756102456776121874989496122110901\n",
    "2310891043201307655430923876565434325892\n",
    "3456780103011218967649810189410145456743\n",
    "2561078212320989858236702107320236787654\n",
    "1232569343423874749145893678741199899873\n",
    "0343454358514565632098704569632087684562\n",
    "0456789969609034501347612189323456893001\n",
    "1499876878798123101256543079012548762110\n",
    "2387905462687678871212344568187659450223\n",
    "3456012301056549960305650127691098321054\n",
    "3456732102345832154454781034540107650169\n",
    "2369847898738981023763692321121256743278\n",
    "1078456654567670119832103400012349894361\n",
    "0012387763456543208041076510123412765010\n",
    "7650196892565454589107889623296503854321\n",
    "8943256781074303673236908774387654983432\n",
    "8912965890985210984365219985345015676541\n",
    "7607834187866789875434308776236723498650\n",
    "6506543045679012766923105698109894567743\n",
    "5410432134988703457810014567056210754892\n",
    "0322345028767845893456723459847349889701\n",
    "1201276719454936712679801210738256776545\n",
    "2450989805103221604589752345629145480230\n",
    "2347823456012120113298943238710076591121\n",
    "1056910147893012320107654109656789432012\"\"\""
   ]
  }
 ],
 "metadata": {
  "kernelspec": {
   "display_name": "Python 3 (ipykernel)",
   "language": "python",
   "name": "python3"
  },
  "language_info": {
   "codemirror_mode": {
    "name": "ipython",
    "version": 3
   },
   "file_extension": ".py",
   "mimetype": "text/x-python",
   "name": "python",
   "nbconvert_exporter": "python",
   "pygments_lexer": "ipython3",
   "version": "3.10.6"
  }
 },
 "nbformat": 4,
 "nbformat_minor": 5
}
