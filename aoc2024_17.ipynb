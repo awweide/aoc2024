{
 "cells": [
  {
   "cell_type": "code",
   "execution_count": 66,
   "id": "e10f24e6",
   "metadata": {},
   "outputs": [],
   "source": [
    "input_test = \"\"\"Register A: 729\n",
    "Register B: 0\n",
    "Register C: 0\n",
    "\n",
    "Program: 0,1,5,4,3,0\"\"\"\n",
    "output_test_p1 = \"4,6,3,5,6,3,5,2,1,0\"\n",
    "\n",
    "input_quine = \"\"\"Register A: 2024\n",
    "Register B: 0\n",
    "Register C: 0\n",
    "\n",
    "Program: 0,3,5,4,3,0\"\"\"\n",
    "override_quine = 117440\n",
    "output_quine = \"0,3,5,4,3,0\""
   ]
  },
  {
   "cell_type": "code",
   "execution_count": 136,
   "id": "8523cd7b",
   "metadata": {},
   "outputs": [],
   "source": [
    "from collections import defaultdict"
   ]
  },
  {
   "cell_type": "code",
   "execution_count": 162,
   "id": "41def04b",
   "metadata": {},
   "outputs": [],
   "source": [
    "class M:\n",
    "    def __init__(self, inp):\n",
    "        register_lines, program_line = inp.split('\\n\\n')\n",
    "        self.A, self.B, self.C = [int(line.split(': ')[1]) for line in register_lines.split('\\n')]\n",
    "        self.program = [int(i) for i in (program_line.split(': ')[1]).split(',')]\n",
    "        self.program_ix = 0\n",
    "        self.output = \"\"\n",
    "        self.halt = False\n",
    "\n",
    "    def print_state(self):\n",
    "        print(self.A, self.B, self.C)\n",
    "        print(list(map(oct,[self.A, self.B, self.C])))\n",
    "        print(self.program)\n",
    "        print(self.program_ix)\n",
    "        print(self.output)\n",
    "        print(' ')\n",
    "        \n",
    "    def c_operand(self, operand):\n",
    "        if operand in range(4): return operand\n",
    "        if operand == 4: return self.A\n",
    "        if operand == 5: return self.B\n",
    "        if operand == 6: return self.C\n",
    "        if operand == 7: raise ValueError\n",
    "        \n",
    "    def step(self):\n",
    "        #if len(self.output) == 7 and self.program_ix == 0:\n",
    "        #    self.halt = True\n",
    "        #    return\n",
    "        try:\n",
    "            opcode, operand = self.program[self.program_ix], self.program[self.program_ix+1]\n",
    "            self.program_ix += 2\n",
    "\n",
    "            if opcode == 0: self.A = self.A // (2 ** self.c_operand(operand))\n",
    "            elif opcode == 1: self.B = self.B ^ operand\n",
    "            elif opcode == 2: self.B = self.c_operand(operand) % 8\n",
    "            elif opcode == 3:\n",
    "                if self.A != 0:\n",
    "                    self.program_ix = operand\n",
    "            elif opcode == 4: self.B = self.B ^ self.C\n",
    "            elif opcode == 5: self.output += str(self.c_operand(operand) % 8) + ','\n",
    "            elif opcode == 6: self.B = self.A // (2 ** self.c_operand(operand))\n",
    "            elif opcode == 7: self.C = self.A // (2 ** self.c_operand(operand))\n",
    "            \n",
    "        except: self.halt = True\n",
    "        \n",
    " \n",
    "    \n",
    "    def run(self):\n",
    "        while not self.halt: self.step()\n",
    "        return self.output[:-1], (self.A, self.B, self.C)\n",
    "\n",
    "def solve_p1(inp, override = -1):\n",
    "    m = M(inp)\n",
    "    if override != -1: m.A = override\n",
    "    return m.run()"
   ]
  },
  {
   "cell_type": "code",
   "execution_count": 163,
   "id": "7d1de101",
   "metadata": {},
   "outputs": [],
   "source": [
    "assert solve_p1(input_test) == output_test_p1\n",
    "solve_p1(input_full)"
   ]
  },
  {
   "cell_type": "code",
   "execution_count": null,
   "id": "8fcb9d44",
   "metadata": {},
   "outputs": [],
   "source": [
    "#part 2 code to be added"
   ]
  },
  {
   "cell_type": "code",
   "execution_count": 77,
   "id": "ac05d24e",
   "metadata": {},
   "outputs": [],
   "source": [
    "input_full = \"\"\"Register A: 25358015\n",
    "Register B: 0\n",
    "Register C: 0\n",
    "\n",
    "Program: 2,4,1,1,7,5,0,3,4,7,1,6,5,5,3,0\"\"\""
   ]
  }
 ],
 "metadata": {
  "kernelspec": {
   "display_name": "Python 3 (ipykernel)",
   "language": "python",
   "name": "python3"
  },
  "language_info": {
   "codemirror_mode": {
    "name": "ipython",
    "version": 3
   },
   "file_extension": ".py",
   "mimetype": "text/x-python",
   "name": "python",
   "nbconvert_exporter": "python",
   "pygments_lexer": "ipython3",
   "version": "3.10.6"
  }
 },
 "nbformat": 4,
 "nbformat_minor": 5
}
