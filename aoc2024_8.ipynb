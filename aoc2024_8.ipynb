{
 "cells": [
  {
   "cell_type": "code",
   "execution_count": null,
   "id": "4c9b5d9d",
   "metadata": {},
   "outputs": [],
   "source": [
    "input_test_p1 = \"\"\"............\n",
    "........0...\n",
    ".....0......\n",
    ".......0....\n",
    "....0.......\n",
    "......A.....\n",
    "............\n",
    "............\n",
    "........A...\n",
    ".........A..\n",
    "............\n",
    "............\"\"\"\n",
    "output_test_p1 = 14\n",
    "output_test_p2 = 34"
   ]
  },
  {
   "cell_type": "code",
   "execution_count": null,
   "id": "53669872",
   "metadata": {},
   "outputs": [],
   "source": [
    "from collections import defaultdict\n",
    "import itertools\n",
    "import numpy as np\n",
    "\n",
    "def parse_input(inp):\n",
    "    d = defaultdict(list)\n",
    "    for linenum,line in enumerate(inp.split('\\n')):\n",
    "        for charnum,char in enumerate(line):\n",
    "            if char != '.': d[char].append(np.array((linenum,charnum)))\n",
    "            shape = linenum+1,charnum+1\n",
    "    return d, shape\n",
    "\n",
    "def solve(inp, part2=False):\n",
    "    dict_char_to_pos_as_npa, shape = parse_input(inp)\n",
    "    s = set()\n",
    "    for char, char_pos_list in dict_char_to_pos_as_npa.items():\n",
    "        for p1,p2 in itertools.combinations(char_pos_list, 2):\n",
    "            px = p2-p1\n",
    "            if not part2: m_ranges = ([-1], [2]) #will yield p1 - (p2 - p1) and p1 + 2*(p2 - p1)\n",
    "            else: m_ranges = (range(0,10**6), range(-1, -10**6, -1)) #10**6 assumed to be as large as could possibly be needed\n",
    "            \n",
    "            for m_range in m_ranges:\n",
    "                for m in m_range: #double nesting lets break handle positives and negatives separately\n",
    "                    p = p1 + m*px\n",
    "                    if np.all(p >= [0,0]) and np.all(p < shape): s.add(tuple(p))\n",
    "                    else: break\n",
    "    return len(s)"
   ]
  },
  {
   "cell_type": "code",
   "execution_count": null,
   "id": "a52c3614",
   "metadata": {},
   "outputs": [],
   "source": [
    "assert solve(input_test_p1) == output_test_p1\n",
    "solve(input_full)"
   ]
  },
  {
   "cell_type": "code",
   "execution_count": null,
   "id": "886c616c",
   "metadata": {},
   "outputs": [],
   "source": [
    "assert solve(input_test_p1, True) == output_test_p2\n",
    "solve(input_full, True)"
   ]
  },
  {
   "cell_type": "code",
   "execution_count": null,
   "id": "a5790d4f",
   "metadata": {},
   "outputs": [],
   "source": [
    "input_full = \"\"\"..........................4..............7..q.....\n",
    "..........G..42.f......K.........7................\n",
    "D.t...S......A....................................\n",
    "..K.................................I.............\n",
    "G....D...f.tA..H.S..........o................N....\n",
    "t....f..............4..A........B.........N.....q.\n",
    "...b...k....f..h..........6.......................\n",
    "..........b....m................7...............Q.\n",
    "....h....G.2........K.i...........................\n",
    ".F...2.....D....H..6..o........I..................\n",
    "k.......b..................K......I.....e.....B...\n",
    ".............Sp..o....n....R.............N........\n",
    "F............d................2...................\n",
    ".........i........................................\n",
    ".....ma.....d......p.Q..n.....7....9..........N...\n",
    "......m..H......S...8......n.....Q...e............\n",
    ".i..............8......O.....I................c...\n",
    "..d......k....R.....................9....z........\n",
    "..p.......m......n...............P................\n",
    ".......pLb...................W..j................q\n",
    ".....C..1..........u.....c.....jO...Z..o.........V\n",
    "..C.....i........X1......9......e....j.....B....c.\n",
    "......................9...........Q..Z............\n",
    ".d....h..L...............8........O...............\n",
    "....C....r..L....R...............6................\n",
    "...........h.............1.t......P.......V.......\n",
    ".......L.1........................................\n",
    "..................................................\n",
    "X.......................................V.....W...\n",
    "rx........a.X.......0....l..........6.........z...\n",
    "..r........a.8.................................z..\n",
    "................w.........l..............P....A...\n",
    "..........E....s..w.j........l...............W....\n",
    "...v...............c..............W..y...V.O......\n",
    ".....X..g.Y...0w......l...................u.......\n",
    ".C.......Y...0....................................\n",
    "...g..UJ...0........v.............................\n",
    ".U...aY...........................................\n",
    "....5........Y....MUJ..........B..................\n",
    ".......g...5M........J.......w.........u..Z.......\n",
    "................TE................................\n",
    "..U....r....5.................J..........Z........\n",
    ".......5...3......s........T......................\n",
    ".............E.T..............................u...\n",
    "...........v........y.......................P.....\n",
    "................s.................................\n",
    "x............M3........e..........................\n",
    "........3...v......MT.............................\n",
    ".............x....................................\n",
    "....x..........3............y.....................\"\"\""
   ]
  }
 ],
 "metadata": {
  "kernelspec": {
   "display_name": "Python 3 (ipykernel)",
   "language": "python",
   "name": "python3"
  },
  "language_info": {
   "codemirror_mode": {
    "name": "ipython",
    "version": 3
   },
   "file_extension": ".py",
   "mimetype": "text/x-python",
   "name": "python",
   "nbconvert_exporter": "python",
   "pygments_lexer": "ipython3",
   "version": "3.10.6"
  }
 },
 "nbformat": 4,
 "nbformat_minor": 5
}
