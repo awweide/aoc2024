{
 "cells": [
  {
   "cell_type": "code",
   "execution_count": null,
   "id": "8a790e48",
   "metadata": {},
   "outputs": [],
   "source": [
    "from collections import defaultdict"
   ]
  },
  {
   "cell_type": "code",
   "execution_count": null,
   "id": "1a38ef9e",
   "metadata": {},
   "outputs": [],
   "source": [
    "input_test_p1 = \"\"\"125 17\"\"\"\n",
    "output_test_p1 = {6: 22, 25: 55312}"
   ]
  },
  {
   "cell_type": "code",
   "execution_count": null,
   "id": "ddce7a70",
   "metadata": {},
   "outputs": [],
   "source": [
    "def parse_input(inp): return [int(c) for c in inp.split(' ')]\n",
    "\n",
    "def upd(i, m = 2024):\n",
    "    if i == 0: return [1]\n",
    "    s = str(i)\n",
    "    l = len(s)\n",
    "    if l % 2 == 0: return [int(s[:l//2]), int(s[l//2:])]\n",
    "    return [i * m]\n",
    "\n",
    "def solve(inp, iterations=25):\n",
    "    d = defaultdict(int, {i : 1 for i in parse_input(inp)})\n",
    "    \n",
    "    for _ in range(iterations):\n",
    "        D = defaultdict(int) \n",
    "        for i,n in d.items():\n",
    "            for u in upd(i): D[u] += n\n",
    "        d = D\n",
    "        \n",
    "    return sum([n for i,n in d.items()])"
   ]
  },
  {
   "cell_type": "code",
   "execution_count": null,
   "id": "dace8bdb",
   "metadata": {},
   "outputs": [],
   "source": [
    "for iterations, solution in output_test_p1.items():\n",
    "    assert solve(input_test_p1, iterations) == solution\n",
    "solve(input_full)"
   ]
  },
  {
   "cell_type": "code",
   "execution_count": null,
   "id": "ceee14ce",
   "metadata": {},
   "outputs": [],
   "source": [
    "solve(input_full, iterations=75)"
   ]
  },
  {
   "cell_type": "code",
   "execution_count": null,
   "id": "c4623484",
   "metadata": {},
   "outputs": [],
   "source": [
    "input_full = \"\"\"337 42493 1891760 351136 2 6932 73 0\"\"\""
   ]
  }
 ],
 "metadata": {
  "kernelspec": {
   "display_name": "Python 3 (ipykernel)",
   "language": "python",
   "name": "python3"
  },
  "language_info": {
   "codemirror_mode": {
    "name": "ipython",
    "version": 3
   },
   "file_extension": ".py",
   "mimetype": "text/x-python",
   "name": "python",
   "nbconvert_exporter": "python",
   "pygments_lexer": "ipython3",
   "version": "3.10.6"
  }
 },
 "nbformat": 4,
 "nbformat_minor": 5
}
